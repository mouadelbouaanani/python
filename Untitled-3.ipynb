{
 "cells": [
  {
   "cell_type": "code",
   "execution_count": 2,
   "id": "b26aa5d4",
   "metadata": {},
   "outputs": [
    {
     "name": "stdout",
     "output_type": "stream",
     "text": [
      "hello world !\n"
     ]
    }
   ],
   "source": [
    "print(\"hello world !\")"
   ]
  },
  {
   "cell_type": "code",
   "execution_count": 4,
   "id": "5d6e799a",
   "metadata": {},
   "outputs": [
    {
     "name": "stdout",
     "output_type": "stream",
     "text": [
      "hello world! \n",
      "hello world! \n",
      "hello world! \n",
      "\n"
     ]
    }
   ],
   "source": [
    "print(\"hello world! \\nhello world! \\nhello world! \\n\")"
   ]
  },
  {
   "cell_type": "code",
   "execution_count": 5,
   "id": "5e7786a2",
   "metadata": {},
   "outputs": [
    {
     "ename": "NameError",
     "evalue": "name 'Input' is not defined",
     "output_type": "error",
     "traceback": [
      "\u001b[0;31m---------------------------------------------------------------------------\u001b[0m",
      "\u001b[0;31mNameError\u001b[0m                                 Traceback (most recent call last)",
      "Cell \u001b[0;32mIn[5], line 1\u001b[0m\n\u001b[0;32m----> 1\u001b[0m Input (\u001b[38;5;124m\"\u001b[39m\u001b[38;5;124mwhat’s your name\u001b[39m\u001b[38;5;124m\"\u001b[39m)\n",
      "\u001b[0;31mNameError\u001b[0m: name 'Input' is not defined"
     ]
    }
   ],
   "source": [
    "Input (\"what’s your name\")"
   ]
  },
  {
   "cell_type": "code",
   "execution_count": 6,
   "id": "f5db9c71",
   "metadata": {},
   "outputs": [
    {
     "name": "stdout",
     "output_type": "stream",
     "text": [
      "what’s your nameMouad\n"
     ]
    },
    {
     "data": {
      "text/plain": [
       "'Mouad'"
      ]
     },
     "execution_count": 6,
     "metadata": {},
     "output_type": "execute_result"
    }
   ],
   "source": [
    "input (\"what’s your name\")"
   ]
  },
  {
   "cell_type": "code",
   "execution_count": 14,
   "id": "59149357",
   "metadata": {},
   "outputs": [
    {
     "name": "stdout",
     "output_type": "stream",
     "text": [
      "Day 1 - String Manipulation\n",
      "String Concatenation is done with the  sign.\n",
      "e.g. print(\"Hello \" + \"world\")\n",
      "New lines can be created with a backslash and n.\n"
     ]
    }
   ],
   "source": [
    "print(\"Day 1 - String Manipulation\")\n",
    "print(\"String Concatenation is done with the \"+\" sign.\")\n",
    "print('e.g. print(\"Hello \" + \"world\")')\n",
    "print(\"New lines can be created with a backslash and n.\")"
   ]
  },
  {
   "cell_type": "code",
   "execution_count": 22,
   "id": "19b12e3c",
   "metadata": {
    "scrolled": true
   },
   "outputs": [
    {
     "name": "stdout",
     "output_type": "stream",
     "text": [
      "entrez un nombre5\n",
      "5 is a positive number\n"
     ]
    }
   ],
   "source": [
    "num=int(input(\"entrez un nombre\"))\n",
    "if num>0 :\n",
    "    print(num,\"is a positive number\")\n",
    "else :\n",
    "        print(num,\"is a negative number\")"
   ]
  },
  {
   "cell_type": "code",
   "execution_count": null,
   "id": "07514f9f",
   "metadata": {},
   "outputs": [],
   "source": []
  },
  {
   "cell_type": "code",
   "execution_count": null,
   "id": "fb722d5e",
   "metadata": {},
   "outputs": [],
   "source": [
    "num=int(input(\"entrez un nombre\"))\n",
    "if num>0 :\n",
    "    print(num,\"is a positive number\")\n",
    "else :\n",
    "        print(num,\"is a negative number\")"
   ]
  },
  {
   "cell_type": "code",
   "execution_count": null,
   "id": "f10ffe30",
   "metadata": {},
   "outputs": [],
   "source": [
    "num=int(input(\"entrez un nombre\"))\n",
    "if num>0 :\n",
    "    print(num,\"is a positive number\")\n",
    "else :\n",
    "        print(num,\"is a negative number\")"
   ]
  },
  {
   "cell_type": "code",
   "execution_count": null,
   "id": "7cc9d82c",
   "metadata": {},
   "outputs": [],
   "source": [
    "num=int(input(\"entrez un nombre\"))\n",
    "if num>0 :\n",
    "    print(num,\"is a positive number\")\n",
    "else :\n",
    "        print(num,\"is a negative number\")"
   ]
  },
  {
   "cell_type": "code",
   "execution_count": null,
   "id": "a2f3029f",
   "metadata": {},
   "outputs": [],
   "source": [
    "num=int(input(\"entrez un nombre\"))\n",
    "if num>0 :\n",
    "    print(num,\"is a positive number\")\n",
    "else :\n",
    "        print(num,\"is a negative number\")"
   ]
  },
  {
   "cell_type": "code",
   "execution_count": null,
   "id": "80e3d155",
   "metadata": {},
   "outputs": [],
   "source": [
    "num=int(input(\"entrez un nombre\"))\n",
    "if num>0 :\n",
    "    print(num,\"is a positive number\")\n",
    "else :\n",
    "        print(num,\"is a negative number\")"
   ]
  },
  {
   "cell_type": "code",
   "execution_count": 28,
   "id": "7eab734e",
   "metadata": {},
   "outputs": [
    {
     "ename": "SyntaxError",
     "evalue": "invalid syntax (503220298.py, line 6)",
     "output_type": "error",
     "traceback": [
      "\u001b[0;36m  Cell \u001b[0;32mIn[28], line 6\u001b[0;36m\u001b[0m\n\u001b[0;31m    else:\u001b[0m\n\u001b[0m    ^\u001b[0m\n\u001b[0;31mSyntaxError\u001b[0m\u001b[0;31m:\u001b[0m invalid syntax\n"
     ]
    }
   ],
   "source": [
    "n=int(input(\"entrez le nombre d'élèves \"))\n",
    "l=[]\n",
    "for i in range (n):\n",
    "    if i==0:\n",
    "        x=float(input(f\"entrez la {i+1} ère note\")\n",
    "    else:\n",
    "        x=float(input(f\"entrez la {i+1} ème note\")\n",
    "    l.append(x)\n",
    "    "
   ]
  },
  {
   "cell_type": "code",
   "execution_count": 33,
   "id": "6248089a",
   "metadata": {},
   "outputs": [
    {
     "ename": "SyntaxError",
     "evalue": "invalid syntax (374082911.py, line 9)",
     "output_type": "error",
     "traceback": [
      "\u001b[0;36m  Cell \u001b[0;32mIn[33], line 9\u001b[0;36m\u001b[0m\n\u001b[0;31m    else:\u001b[0m\n\u001b[0m    ^\u001b[0m\n\u001b[0;31mSyntaxError\u001b[0m\u001b[0;31m:\u001b[0m invalid syntax\n"
     ]
    }
   ],
   "source": [
    "n=int(input(\"entrez le nombre d'élèves \"))\n",
    "l=[]\n",
    "for i in range (n):\n",
    "    \n",
    "    if i==0:\n",
    "        \n",
    "        \n",
    "        x=float(input(f\"entrez la {i+1} ère note\")\n",
    "    else:\n",
    "                \n",
    "        x=float(input(f\"entrez la {i+1} ème note\")\n",
    "    l.append(x)"
   ]
  },
  {
   "cell_type": "code",
   "execution_count": 34,
   "id": "95d726fe",
   "metadata": {},
   "outputs": [
    {
     "name": "stdout",
     "output_type": "stream",
     "text": [
      "john\n"
     ]
    }
   ],
   "source": [
    "my_tuple=(\"john\",\"25\",\"male\")\n",
    "print(my_tuple[0]) "
   ]
  },
  {
   "cell_type": "code",
   "execution_count": 35,
   "id": "ddf2bae6",
   "metadata": {},
   "outputs": [
    {
     "name": "stdout",
     "output_type": "stream",
     "text": [
      "bread\n",
      "['milk', 'bread', 'eggs', 'bananas', 'chocolate']\n",
      "['bread', 'eggs', 'bananas', 'chocolate']\n"
     ]
    }
   ],
   "source": [
    "grocery_list=[\"milk\",\"bread\",\"eggs\",\"bananas\"]\n",
    "print(grocery_list[1])\n",
    "grocery_list.append(\"chocolate\")\n",
    "print(grocery_list)\n",
    "grocery_list.remove(\"milk\")\n",
    "print(grocery_list)"
   ]
  },
  {
   "cell_type": "code",
   "execution_count": 36,
   "id": "de003ff3",
   "metadata": {},
   "outputs": [
    {
     "name": "stdout",
     "output_type": "stream",
     "text": [
      "{'5', '4', '6', '2', '3', '1'}\n",
      "6\n",
      "{'5', '4', '6', '2', '3', '1'}\n"
     ]
    }
   ],
   "source": [
    "unique_members={\"1\",\"2\",\"3\",\"4\",\"5\"}\n",
    "unique_members.add(\"6\")\n",
    "print(unique_members)\n",
    "print(len(unique_members))\n",
    "unique_members.add(\"3\")\n",
    "print(unique_members)\n"
   ]
  },
  {
   "cell_type": "code",
   "execution_count": 37,
   "id": "fe5e7515",
   "metadata": {},
   "outputs": [
    {
     "name": "stdout",
     "output_type": "stream",
     "text": [
      "{'5', '4', '6', '2', '3', '1'}\n",
      "6\n",
      "{'5', '4', '6', '2', '3', '1'}\n"
     ]
    }
   ],
   "source": [
    "unique_members={\"1\",\"2\",\"3\",\"4\",\"5\"}\n",
    "unique_members.add(\"6\")\n",
    "print(unique_members)\n",
    "print(len(unique_members))\n",
    "unique_members.add(\"3\")\n",
    "print(unique_members)"
   ]
  },
  {
   "cell_type": "code",
   "execution_count": 38,
   "id": "2865fdec",
   "metadata": {},
   "outputs": [
    {
     "name": "stdout",
     "output_type": "stream",
     "text": [
      "bread\n",
      "['milk', 'bread', 'eggs', 'bananas', 'chocolate']\n",
      "['bread', 'eggs', 'bananas', 'chocolate']\n"
     ]
    }
   ],
   "source": [
    "grocery_list=[\"milk\",\"bread\",\"eggs\",\"bananas\"]\n",
    "print(grocery_list[1])\n",
    "grocery_list.append(\"chocolate\")\n",
    "print(grocery_list)\n",
    "grocery_list.remove(\"milk\")\n",
    "print(grocery_list)"
   ]
  },
  {
   "cell_type": "code",
   "execution_count": 39,
   "id": "c1521eb2",
   "metadata": {},
   "outputs": [
    {
     "name": "stdout",
     "output_type": "stream",
     "text": [
      "Menu:\n",
      "1.ajouter article\n",
      "2.supprimer article\n",
      "3.afficher les éléments\n",
      "4.Exit\n",
      "choisir la commande de 1 à 4:1\n",
      "nombre élément à ajouter:2\n",
      "entrer le 1 er élément3\n"
     ]
    },
    {
     "ename": "KeyboardInterrupt",
     "evalue": "Interrupted by user",
     "output_type": "error",
     "traceback": [
      "\u001b[0;31m---------------------------------------------------------------------------\u001b[0m",
      "\u001b[0;31mKeyboardInterrupt\u001b[0m                         Traceback (most recent call last)",
      "Cell \u001b[0;32mIn[39], line 16\u001b[0m\n\u001b[1;32m     14\u001b[0m                   E\u001b[38;5;241m=\u001b[39m\u001b[38;5;28minput\u001b[39m(\u001b[38;5;124mf\u001b[39m\u001b[38;5;124m\"\u001b[39m\u001b[38;5;124mentrer le \u001b[39m\u001b[38;5;132;01m{\u001b[39;00mi\u001b[38;5;241m+\u001b[39m\u001b[38;5;241m1\u001b[39m\u001b[38;5;132;01m}\u001b[39;00m\u001b[38;5;124m er élément\u001b[39m\u001b[38;5;124m\"\u001b[39m)\n\u001b[1;32m     15\u001b[0m             \u001b[38;5;28;01melse\u001b[39;00m:\n\u001b[0;32m---> 16\u001b[0m                   E\u001b[38;5;241m=\u001b[39m\u001b[38;5;28minput\u001b[39m(\u001b[38;5;124mf\u001b[39m\u001b[38;5;124m\"\u001b[39m\u001b[38;5;124mentrer le \u001b[39m\u001b[38;5;132;01m{\u001b[39;00mi\u001b[38;5;241m+\u001b[39m\u001b[38;5;241m1\u001b[39m\u001b[38;5;132;01m}\u001b[39;00m\u001b[38;5;124m ème élément\u001b[39m\u001b[38;5;124m\"\u001b[39m)\n\u001b[1;32m     17\u001b[0m             shopping_list\u001b[38;5;241m.\u001b[39mappend(E)\n\u001b[1;32m     18\u001b[0m \u001b[38;5;28;01melif\u001b[39;00m c\u001b[38;5;241m==\u001b[39m\u001b[38;5;241m2\u001b[39m:\n",
      "File \u001b[0;32m~/anaconda3/lib/python3.11/site-packages/ipykernel/kernelbase.py:1202\u001b[0m, in \u001b[0;36mKernel.raw_input\u001b[0;34m(self, prompt)\u001b[0m\n\u001b[1;32m   1200\u001b[0m     msg \u001b[38;5;241m=\u001b[39m \u001b[38;5;124m\"\u001b[39m\u001b[38;5;124mraw_input was called, but this frontend does not support input requests.\u001b[39m\u001b[38;5;124m\"\u001b[39m\n\u001b[1;32m   1201\u001b[0m     \u001b[38;5;28;01mraise\u001b[39;00m StdinNotImplementedError(msg)\n\u001b[0;32m-> 1202\u001b[0m \u001b[38;5;28;01mreturn\u001b[39;00m \u001b[38;5;28mself\u001b[39m\u001b[38;5;241m.\u001b[39m_input_request(\n\u001b[1;32m   1203\u001b[0m     \u001b[38;5;28mstr\u001b[39m(prompt),\n\u001b[1;32m   1204\u001b[0m     \u001b[38;5;28mself\u001b[39m\u001b[38;5;241m.\u001b[39m_parent_ident[\u001b[38;5;124m\"\u001b[39m\u001b[38;5;124mshell\u001b[39m\u001b[38;5;124m\"\u001b[39m],\n\u001b[1;32m   1205\u001b[0m     \u001b[38;5;28mself\u001b[39m\u001b[38;5;241m.\u001b[39mget_parent(\u001b[38;5;124m\"\u001b[39m\u001b[38;5;124mshell\u001b[39m\u001b[38;5;124m\"\u001b[39m),\n\u001b[1;32m   1206\u001b[0m     password\u001b[38;5;241m=\u001b[39m\u001b[38;5;28;01mFalse\u001b[39;00m,\n\u001b[1;32m   1207\u001b[0m )\n",
      "File \u001b[0;32m~/anaconda3/lib/python3.11/site-packages/ipykernel/kernelbase.py:1245\u001b[0m, in \u001b[0;36mKernel._input_request\u001b[0;34m(self, prompt, ident, parent, password)\u001b[0m\n\u001b[1;32m   1242\u001b[0m \u001b[38;5;28;01mexcept\u001b[39;00m \u001b[38;5;167;01mKeyboardInterrupt\u001b[39;00m:\n\u001b[1;32m   1243\u001b[0m     \u001b[38;5;66;03m# re-raise KeyboardInterrupt, to truncate traceback\u001b[39;00m\n\u001b[1;32m   1244\u001b[0m     msg \u001b[38;5;241m=\u001b[39m \u001b[38;5;124m\"\u001b[39m\u001b[38;5;124mInterrupted by user\u001b[39m\u001b[38;5;124m\"\u001b[39m\n\u001b[0;32m-> 1245\u001b[0m     \u001b[38;5;28;01mraise\u001b[39;00m \u001b[38;5;167;01mKeyboardInterrupt\u001b[39;00m(msg) \u001b[38;5;28;01mfrom\u001b[39;00m \u001b[38;5;28;01mNone\u001b[39;00m\n\u001b[1;32m   1246\u001b[0m \u001b[38;5;28;01mexcept\u001b[39;00m \u001b[38;5;167;01mException\u001b[39;00m:\n\u001b[1;32m   1247\u001b[0m     \u001b[38;5;28mself\u001b[39m\u001b[38;5;241m.\u001b[39mlog\u001b[38;5;241m.\u001b[39mwarning(\u001b[38;5;124m\"\u001b[39m\u001b[38;5;124mInvalid Message:\u001b[39m\u001b[38;5;124m\"\u001b[39m, exc_info\u001b[38;5;241m=\u001b[39m\u001b[38;5;28;01mTrue\u001b[39;00m)\n",
      "\u001b[0;31mKeyboardInterrupt\u001b[0m: Interrupted by user"
     ]
    }
   ],
   "source": [
    "shopping_list=[]\n",
    "a=True\n",
    "while a==True:\n",
    "    print(\"Menu:\")\n",
    "    print(\"1.ajouter article\")\n",
    "    print(\"2.supprimer article\")\n",
    "    print(\"3.afficher les éléments\")\n",
    "    print(\"4.Exit\")\n",
    "    c=int(input(\"choisir la commande de 1 à 4:\"))\n",
    "    if c==1:\n",
    "        n=int(input(\"nombre élément à ajouter:\"))\n",
    "        for i in range (n):\n",
    "                if i==0:\n",
    "                      E=input(f\"entrer le {i+1} er élément\")\n",
    "                else:\n",
    "                      E=input(f\"entrer le {i+1} ème élément\")\n",
    "                shopping_list.append(E)\n",
    "    elif c==2:\n",
    "        s=input(\"élément à supprimer\")\n",
    "        shopping_list.remove(s)\n",
    "        n=-1    \n",
    "    elif c==3:\n",
    "        for i in range (n):\n",
    "            if i==0:\n",
    "                print(f\"le {i+1} er élément est:\",shopping_list[i])\n",
    "            else:\n",
    "                print(f\"le {i+1}ème valeur est:\",shopping_list[i])\n",
    "    else:\n",
    "        break"
   ]
  },
  {
   "cell_type": "code",
   "execution_count": 40,
   "id": "5d8506d8",
   "metadata": {},
   "outputs": [
    {
     "name": "stdout",
     "output_type": "stream",
     "text": [
      "[96.8, 104.0, 113.0]\n"
     ]
    }
   ],
   "source": [
    "Celsius=[36,40,45]\n",
    "Fahrenheit=map(lambda x:((9/5)*x)+32,Celsius)\n",
    "print(list(Fahrenheit))"
   ]
  },
  {
   "cell_type": "code",
   "execution_count": null,
   "id": "96219604",
   "metadata": {},
   "outputs": [],
   "source": []
  },
  {
   "cell_type": "code",
   "execution_count": 44,
   "id": "7597bd54",
   "metadata": {},
   "outputs": [
    {
     "ename": "IndentationError",
     "evalue": "expected an indented block after function definition on line 1 (2841801943.py, line 2)",
     "output_type": "error",
     "traceback": [
      "\u001b[0;36m  Cell \u001b[0;32mIn[44], line 2\u001b[0;36m\u001b[0m\n\u001b[0;31m    def soustraire(a,b)\u001b[0m\n\u001b[0m    ^\u001b[0m\n\u001b[0;31mIndentationError\u001b[0m\u001b[0;31m:\u001b[0m expected an indented block after function definition on line 1\n"
     ]
    }
   ],
   "source": [
    "def additionner(a,b):\n",
    "def soustraire(a,b)\n",
    "def multiplier(a,b)\n",
    "def diviser(a,b)  "
   ]
  },
  {
   "cell_type": "code",
   "execution_count": 50,
   "id": "49c8e291",
   "metadata": {},
   "outputs": [],
   "source": [
    "\n",
    "def ajouter(a, b):\n",
    "    return a + b\n",
    "\n",
    "def soustraire(a, b):\n",
    "    return a - b\n",
    "\n",
    "def multiplier(a, b):\n",
    "    return a * b\n",
    "\n",
    "def diviser(a, b):\n",
    "    return a / b\n",
    "    \n",
    "\n",
    "\n"
   ]
  },
  {
   "cell_type": "code",
   "execution_count": 61,
   "id": "7cddd8a3",
   "metadata": {},
   "outputs": [
    {
     "ename": "IndentationError",
     "evalue": "expected an indented block after 'while' statement on line 17 (677843863.py, line 18)",
     "output_type": "error",
     "traceback": [
      "\u001b[0;36m  Cell \u001b[0;32mIn[61], line 18\u001b[0;36m\u001b[0m\n\u001b[0;31m    print(\"opérations valables\")\u001b[0m\n\u001b[0m    ^\u001b[0m\n\u001b[0;31mIndentationError\u001b[0m\u001b[0;31m:\u001b[0m expected an indented block after 'while' statement on line 17\n"
     ]
    }
   ],
   "source": [
    "\n",
    "def ajouter(a, b):\n",
    "    return a + b\n",
    "\n",
    "def soustraire(a, b):\n",
    "    return a - b\n",
    "\n",
    "def multiplier(a, b):\n",
    "    return a * b\n",
    "\n",
    "def diviser(a, b):\n",
    "    return a / b\n",
    "   \n",
    "opérations = {'+': ajouter, '-': soustraire, '*': multiplier,'/': diviser}\n",
    "def calculatrice():\n",
    "    x= float(input(\"Entrez le premier nombre : \"))\n",
    "    b=True\n",
    "    while b==true :\n",
    "    print(\"opérations valables\")\n",
    "    for key in operations.keys():\n",
    "        print(keyt)\n",
    "    y=input(\"entrez une opération\")\n",
    "    z=float(input(\"entrez le deuxième nombre\"))\n",
    "    if operation == 'q':\n",
    "   \n",
    "\n",
    "        \n",
    "        \n",
    "\n",
    "\n",
    "     \n"
   ]
  },
  {
   "cell_type": "code",
   "execution_count": null,
   "id": "de3ab57e",
   "metadata": {},
   "outputs": [],
   "source": []
  }
 ],
 "metadata": {
  "kernelspec": {
   "display_name": "Python 3 (ipykernel)",
   "language": "python",
   "name": "python3"
  },
  "language_info": {
   "codemirror_mode": {
    "name": "ipython",
    "version": 3
   },
   "file_extension": ".py",
   "mimetype": "text/x-python",
   "name": "python",
   "nbconvert_exporter": "python",
   "pygments_lexer": "ipython3",
   "version": "3.11.5"
  }
 },
 "nbformat": 4,
 "nbformat_minor": 5
}
