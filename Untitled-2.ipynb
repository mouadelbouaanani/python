{
 "cells": [
  {
   "cell_type": "code",
   "execution_count": 2,
   "id": "b26aa5d4",
   "metadata": {},
   "outputs": [
    {
     "name": "stdout",
     "output_type": "stream",
     "text": [
      "hello world !\n"
     ]
    }
   ],
   "source": [
    "print(\"hello world !\")"
   ]
  },
  {
   "cell_type": "code",
   "execution_count": 4,
   "id": "5d6e799a",
   "metadata": {},
   "outputs": [
    {
     "name": "stdout",
     "output_type": "stream",
     "text": [
      "hello world! \n",
      "hello world! \n",
      "hello world! \n",
      "\n"
     ]
    }
   ],
   "source": [
    "print(\"hello world! \\nhello world! \\nhello world! \\n\")"
   ]
  },
  {
   "cell_type": "code",
   "execution_count": 5,
   "id": "5e7786a2",
   "metadata": {},
   "outputs": [
    {
     "ename": "NameError",
     "evalue": "name 'Input' is not defined",
     "output_type": "error",
     "traceback": [
      "\u001b[0;31m---------------------------------------------------------------------------\u001b[0m",
      "\u001b[0;31mNameError\u001b[0m                                 Traceback (most recent call last)",
      "Cell \u001b[0;32mIn[5], line 1\u001b[0m\n\u001b[0;32m----> 1\u001b[0m Input (\u001b[38;5;124m\"\u001b[39m\u001b[38;5;124mwhat’s your name\u001b[39m\u001b[38;5;124m\"\u001b[39m)\n",
      "\u001b[0;31mNameError\u001b[0m: name 'Input' is not defined"
     ]
    }
   ],
   "source": [
    "Input (\"what’s your name\")"
   ]
  },
  {
   "cell_type": "code",
   "execution_count": 6,
   "id": "f5db9c71",
   "metadata": {},
   "outputs": [
    {
     "name": "stdout",
     "output_type": "stream",
     "text": [
      "what’s your nameMouad\n"
     ]
    },
    {
     "data": {
      "text/plain": [
       "'Mouad'"
      ]
     },
     "execution_count": 6,
     "metadata": {},
     "output_type": "execute_result"
    }
   ],
   "source": [
    "input (\"what’s your name\")"
   ]
  },
  {
   "cell_type": "code",
   "execution_count": 14,
   "id": "59149357",
   "metadata": {},
   "outputs": [
    {
     "name": "stdout",
     "output_type": "stream",
     "text": [
      "Day 1 - String Manipulation\n",
      "String Concatenation is done with the  sign.\n",
      "e.g. print(\"Hello \" + \"world\")\n",
      "New lines can be created with a backslash and n.\n"
     ]
    }
   ],
   "source": [
    "print(\"Day 1 - String Manipulation\")\n",
    "print(\"String Concatenation is done with the \"+\" sign.\")\n",
    "print('e.g. print(\"Hello \" + \"world\")')\n",
    "print(\"New lines can be created with a backslash and n.\")"
   ]
  },
  {
   "cell_type": "code",
   "execution_count": 22,
   "id": "19b12e3c",
   "metadata": {
    "scrolled": true
   },
   "outputs": [
    {
     "name": "stdout",
     "output_type": "stream",
     "text": [
      "entrez un nombre5\n",
      "5 is a positive number\n"
     ]
    }
   ],
   "source": [
    "num=int(input(\"entrez un nombre\"))\n",
    "if num>0 :\n",
    "    print(num,\"is a positive number\")\n",
    "else :\n",
    "        print(num,\"is a negative number\")"
   ]
  },
  {
   "cell_type": "code",
   "execution_count": null,
   "id": "07514f9f",
   "metadata": {},
   "outputs": [],
   "source": []
  },
  {
   "cell_type": "code",
   "execution_count": null,
   "id": "fb722d5e",
   "metadata": {},
   "outputs": [],
   "source": [
    "num=int(input(\"entrez un nombre\"))\n",
    "if num>0 :\n",
    "    print(num,\"is a positive number\")\n",
    "else :\n",
    "        print(num,\"is a negative number\")"
   ]
  },
  {
   "cell_type": "code",
   "execution_count": null,
   "id": "f10ffe30",
   "metadata": {},
   "outputs": [],
   "source": [
    "num=int(input(\"entrez un nombre\"))\n",
    "if num>0 :\n",
    "    print(num,\"is a positive number\")\n",
    "else :\n",
    "        print(num,\"is a negative number\")"
   ]
  },
  {
   "cell_type": "code",
   "execution_count": null,
   "id": "7cc9d82c",
   "metadata": {},
   "outputs": [],
   "source": [
    "num=int(input(\"entrez un nombre\"))\n",
    "if num>0 :\n",
    "    print(num,\"is a positive number\")\n",
    "else :\n",
    "        print(num,\"is a negative number\")"
   ]
  },
  {
   "cell_type": "code",
   "execution_count": null,
   "id": "a2f3029f",
   "metadata": {},
   "outputs": [],
   "source": [
    "num=int(input(\"entrez un nombre\"))\n",
    "if num>0 :\n",
    "    print(num,\"is a positive number\")\n",
    "else :\n",
    "        print(num,\"is a negative number\")"
   ]
  },
  {
   "cell_type": "code",
   "execution_count": null,
   "id": "db9907b8",
   "metadata": {},
   "outputs": [],
   "source": [
    "num=int(input(\"entrez un nombre\"))\n",
    "if num>0 :\n",
    "    print(num,\"is a positive number\")\n",
    "else :\n",
    "        print(num,\"is a negative number\")"
   ]
  },
  {
   "cell_type": "code",
   "execution_count": 28,
   "id": "28af797c",
   "metadata": {},
   "outputs": [
    {
     "ename": "SyntaxError",
     "evalue": "invalid syntax (503220298.py, line 6)",
     "output_type": "error",
     "traceback": [
      "\u001b[0;36m  Cell \u001b[0;32mIn[28], line 6\u001b[0;36m\u001b[0m\n\u001b[0;31m    else:\u001b[0m\n\u001b[0m    ^\u001b[0m\n\u001b[0;31mSyntaxError\u001b[0m\u001b[0;31m:\u001b[0m invalid syntax\n"
     ]
    }
   ],
   "source": [
    "n=int(input(\"entrez le nombre d'élèves \"))\n",
    "l=[]\n",
    "for i in range (n):\n",
    "    if i==0:\n",
    "        x=float(input(f\"entrez la {i+1} ère note\")\n",
    "    else:\n",
    "        x=float(input(f\"entrez la {i+1} ème note\")\n",
    "    l.append(x)\n",
    "    "
   ]
  },
  {
   "cell_type": "code",
   "execution_count": 33,
   "id": "448bb6f5",
   "metadata": {},
   "outputs": [
    {
     "ename": "SyntaxError",
     "evalue": "invalid syntax (374082911.py, line 9)",
     "output_type": "error",
     "traceback": [
      "\u001b[0;36m  Cell \u001b[0;32mIn[33], line 9\u001b[0;36m\u001b[0m\n\u001b[0;31m    else:\u001b[0m\n\u001b[0m    ^\u001b[0m\n\u001b[0;31mSyntaxError\u001b[0m\u001b[0;31m:\u001b[0m invalid syntax\n"
     ]
    }
   ],
   "source": [
    "n=int(input(\"entrez le nombre d'élèves \"))\n",
    "l=[]\n",
    "for i in range (n):\n",
    "    \n",
    "    if i==0:\n",
    "        \n",
    "        \n",
    "        x=float(input(f\"entrez la {i+1} ère note\")\n",
    "    else:\n",
    "                \n",
    "        x=float(input(f\"entrez la {i+1} ème note\")\n",
    "    l.append(x)"
   ]
  },
  {
   "cell_type": "code",
   "execution_count": 34,
   "id": "492a1735",
   "metadata": {},
   "outputs": [
    {
     "name": "stdout",
     "output_type": "stream",
     "text": [
      "john\n"
     ]
    }
   ],
   "source": [
    "my_tuple=(\"john\",\"25\",\"male\")\n",
    "print(my_tuple[0]) "
   ]
  },
  {
   "cell_type": "code",
   "execution_count": 35,
   "id": "c5f4456a",
   "metadata": {},
   "outputs": [
    {
     "name": "stdout",
     "output_type": "stream",
     "text": [
      "bread\n",
      "['milk', 'bread', 'eggs', 'bananas', 'chocolate']\n",
      "['bread', 'eggs', 'bananas', 'chocolate']\n"
     ]
    }
   ],
   "source": [
    "grocery_list=[\"milk\",\"bread\",\"eggs\",\"bananas\"]\n",
    "print(grocery_list[1])\n",
    "grocery_list.append(\"chocolate\")\n",
    "print(grocery_list)\n",
    "grocery_list.remove(\"milk\")\n",
    "print(grocery_list)"
   ]
  },
  {
   "cell_type": "code",
   "execution_count": 36,
   "id": "7734aed7",
   "metadata": {},
   "outputs": [
    {
     "name": "stdout",
     "output_type": "stream",
     "text": [
      "{'5', '4', '6', '2', '3', '1'}\n",
      "6\n",
      "{'5', '4', '6', '2', '3', '1'}\n"
     ]
    }
   ],
   "source": [
    "unique_members={\"1\",\"2\",\"3\",\"4\",\"5\"}\n",
    "unique_members.add(\"6\")\n",
    "print(unique_members)\n",
    "print(len(unique_members))\n",
    "unique_members.add(\"3\")\n",
    "print(unique_members)\n"
   ]
  },
  {
   "cell_type": "code",
   "execution_count": 37,
   "id": "3f1151c5",
   "metadata": {},
   "outputs": [
    {
     "name": "stdout",
     "output_type": "stream",
     "text": [
      "{'5', '4', '6', '2', '3', '1'}\n",
      "6\n",
      "{'5', '4', '6', '2', '3', '1'}\n"
     ]
    }
   ],
   "source": [
    "unique_members={\"1\",\"2\",\"3\",\"4\",\"5\"}\n",
    "unique_members.add(\"6\")\n",
    "print(unique_members)\n",
    "print(len(unique_members))\n",
    "unique_members.add(\"3\")\n",
    "print(unique_members)"
   ]
  },
  {
   "cell_type": "code",
   "execution_count": 38,
   "id": "d42f07e2",
   "metadata": {},
   "outputs": [
    {
     "name": "stdout",
     "output_type": "stream",
     "text": [
      "bread\n",
      "['milk', 'bread', 'eggs', 'bananas', 'chocolate']\n",
      "['bread', 'eggs', 'bananas', 'chocolate']\n"
     ]
    }
   ],
   "source": [
    "grocery_list=[\"milk\",\"bread\",\"eggs\",\"bananas\"]\n",
    "print(grocery_list[1])\n",
    "grocery_list.append(\"chocolate\")\n",
    "print(grocery_list)\n",
    "grocery_list.remove(\"milk\")\n",
    "print(grocery_list)"
   ]
  },
  {
   "cell_type": "code",
   "execution_count": null,
   "id": "f0f4ca86",
   "metadata": {},
   "outputs": [
    {
     "name": "stdout",
     "output_type": "stream",
     "text": [
      "Menu:\n",
      "1.ajouter article\n",
      "2.supprimer article\n",
      "3.afficher les éléments\n",
      "4.Exit\n",
      "choisir la commande de 1 à 4:1\n",
      "nombre élément à ajouter:2\n",
      "entrer le 1 er élément3\n"
     ]
    }
   ],
   "source": [
    "shopping_list=[]\n",
    "a=True\n",
    "while a==True:\n",
    "    print(\"Menu:\")\n",
    "    print(\"1.ajouter article\")\n",
    "    print(\"2.supprimer article\")\n",
    "    print(\"3.afficher les éléments\")\n",
    "    print(\"4.Exit\")\n",
    "    c=int(input(\"choisir la commande de 1 à 4:\"))\n",
    "    if c==1:\n",
    "        n=int(input(\"nombre élément à ajouter:\"))\n",
    "        for i in range (n):\n",
    "                if i==0:\n",
    "                      E=input(f\"entrer le {i+1} er élément\")\n",
    "                else:\n",
    "                      E=input(f\"entrer le {i+1} ème élément\")\n",
    "                shopping_list.append(E)\n",
    "    elif c==2:\n",
    "        s=input(\"élément à supprimer\")\n",
    "        shopping_list.remove(s)\n",
    "        n=-1    \n",
    "    elif c==3:\n",
    "        for i in range (n):\n",
    "            if i==0:\n",
    "                print(f\"le {i+1} er élément est:\",shopping_list[i])\n",
    "            else:\n",
    "                print(f\"le {i+1}ème valeur est:\",shopping_list[i])\n",
    "    else:\n",
    "        break"
   ]
  },
  {
   "cell_type": "code",
   "execution_count": null,
   "id": "a2d0da4d",
   "metadata": {},
   "outputs": [],
   "source": []
  }
 ],
 "metadata": {
  "kernelspec": {
   "display_name": "Python 3 (ipykernel)",
   "language": "python",
   "name": "python3"
  },
  "language_info": {
   "codemirror_mode": {
    "name": "ipython",
    "version": 3
   },
   "file_extension": ".py",
   "mimetype": "text/x-python",
   "name": "python",
   "nbconvert_exporter": "python",
   "pygments_lexer": "ipython3",
   "version": "3.11.5"
  }
 },
 "nbformat": 4,
 "nbformat_minor": 5
}
